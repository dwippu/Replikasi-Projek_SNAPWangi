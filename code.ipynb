{
 "cells": [
  {
   "cell_type": "markdown",
   "metadata": {},
   "source": [
    "# PERSIPAN PUSTAKA"
   ]
  },
  {
   "cell_type": "markdown",
   "metadata": {},
   "source": [
    "Pustaka dipakai:\n",
    "1. selenium\n",
    "2. beautifulsoup4\n",
    "3. paddleOCR\n",
    "4. cv2\n",
    "5. pandas\n",
    "6. geopandas\n",
    "7. shapely\n",
    "8. matplotlib"
   ]
  },
  {
   "cell_type": "code",
   "execution_count": 1,
   "metadata": {},
   "outputs": [],
   "source": [
    "# Library for Scrape\n",
    "from selenium import webdriver\n",
    "from selenium.webdriver.chrome.options import Options\n",
    "from bs4 import BeautifulSoup as bs\n",
    "\n",
    "# Visualization\n",
    "from matplotlib import pyplot as plt\n",
    "import cv2\n",
    "\n",
    "# Text Recognition\n",
    "from paddleocr import PaddleOCR, draw_ocr\n",
    "\n",
    "# Polygon Manipulation\n",
    "from shapely.geometry import Polygon, box\n",
    "\n",
    "# Dataframe Management\n",
    "import geopandas as gpd\n",
    "import pandas as pd\n",
    "\n",
    "# Runtime Monitoring\n",
    "import time"
   ]
  },
  {
   "cell_type": "markdown",
   "metadata": {},
   "source": [
    "Alur:\n",
    "1. Import file SHP\n",
    "2. Ekstrak polygon dari kelurahan yang ditentukan\n",
    "3. Buat grid untuk mempermudah menentukan lokasi screenshot\n",
    "    * Lakukan screenshot untuk dua level zoom mengetahui resolusi yang tersedia\n",
    "    * ukuran grid ditentukan berdasarkan resolusi yang diperoleh\n",
    "4. Buat screenshot layar berdasarkan grid yang terbentuk\n",
    "5. Dapatkan nama tempat dengan ocr, sekaligus koordinat pada layar\n",
    "6. Hapus teks yang merupakan menu dari Google Maps\n",
    "7. Hapus teks yang berupa nama jalan\n",
    "8. Klik setiap nama tempat yang didapat\n",
    "9. Dapatkan koordinat POI melalui link\n",
    "10. Dapatkan detail dari tempat menggunakan bs4\n",
    "11. Ulangi tahapan 4 - 10 untuk setiap grid yan didapat"
   ]
  },
  {
   "cell_type": "markdown",
   "metadata": {},
   "source": [
    "# CONFIG PARAMETER"
   ]
  },
  {
   "cell_type": "code",
   "execution_count": 2,
   "metadata": {},
   "outputs": [],
   "source": [
    "#path shp file\n",
    "path_shp = \"SHPFile Kota Sukabumi/3272.shp\"\n",
    "\n",
    "#pilih kelurahan\n",
    "kecamatan = \"Cikole\"\n",
    "kelurahan = \"Cikole\"\n",
    "\n",
    "#folder output\n",
    "path_output = \"output/\""
   ]
  },
  {
   "cell_type": "markdown",
   "metadata": {},
   "source": [
    "# CONFIG SELENIUM DRIVER AND BROWSER"
   ]
  },
  {
   "cell_type": "code",
   "execution_count": null,
   "metadata": {},
   "outputs": [],
   "source": [
    "#windows option\n",
    "chrome_options = Options()\n",
    "chrome_options.add_argument(\"--start-maximized\") # windows size\n",
    "chrome_options.add_experimental_option(\"detach\",True)\n",
    "\n",
    "#zoom gmaps\n",
    "zoom1 = 19.5\n",
    "zoom2 = 21\n",
    "\n",
    "#test coordinat\n",
    "lat_test = -6.9012147\n",
    "long_test = 106.8270525\n",
    "#x=long; y=lat"
   ]
  },
  {
   "cell_type": "markdown",
   "metadata": {},
   "source": [
    "# CALCULATE GRID SIZE"
   ]
  },
  {
   "cell_type": "code",
   "execution_count": 4,
   "metadata": {},
   "outputs": [],
   "source": [
    "def calculate_grid_size(x, y, zoom_level):\n",
    "    x_size = (x/256)*(360/2**zoom_level)\n",
    "    y_size = (y/256)*(360/2**zoom_level)\n",
    "    return x_size, y_size"
   ]
  },
  {
   "cell_type": "markdown",
   "metadata": {},
   "source": [
    "# MAKE A GRID FROM MAPS"
   ]
  },
  {
   "cell_type": "code",
   "execution_count": 18,
   "metadata": {},
   "outputs": [],
   "source": [
    "# Fungsi untuk membagi poligon menjadi grid persegi panjang\n",
    "def create_grid(polygon:gpd.geoseries.GeoSeries, x_size:int, y_size:int):\n",
    "    minx, miny, maxx, maxy = float(polygon.bounds[\"minx\"]), float(polygon.bounds[\"miny\"]), float(polygon.bounds[\"maxx\"]), float(polygon.bounds[\"maxy\"])  # Mendapatkan batas-batas poligon\n",
    "    \n",
    "    # Menentukan jumlah grid yang dibutuhkan dalam arah x dan y\n",
    "    x_steps = int((maxx - minx) / x_size)\n",
    "    y_steps = int((maxy - miny) / y_size)\n",
    "    \n",
    "    grid = []\n",
    "    \n",
    "    # Membuat persegi panjang di dalam area yang tercover poligon\n",
    "    for i in range(x_steps):\n",
    "        for j in range(y_steps):\n",
    "            # Menentukan koordinat persegi panjang\n",
    "            x0 = minx + i * x_size #*0.995\n",
    "            y0 = miny + j * y_size #*0.995\n",
    "            x1 = x0 + x_size\n",
    "            y1 = y0 + y_size\n",
    "            \n",
    "            # Membuat persegi panjang dengan koordinat tersebut\n",
    "            rect = box(x0, y0, x1, y1)\n",
    "            \n",
    "            # Memeriksa apakah persegi panjang tumpang tindih dengan poligon\n",
    "            if rect.intersects(polygon.values):\n",
    "                grid.append(rect)\n",
    "    \n",
    "    return gpd.GeoDataFrame(geometry=grid, crs=\"EPSG:4326\")"
   ]
  },
  {
   "cell_type": "markdown",
   "metadata": {},
   "source": [
    "# GET CENTROID FOR EACH GRID"
   ]
  },
  {
   "cell_type": "code",
   "execution_count": 6,
   "metadata": {},
   "outputs": [],
   "source": [
    "def get_centroid(grid_list:gpd):\n",
    "    grid_list[\"centroid\"] =  grid_list.geometry.centroid\n",
    "    return grid_list"
   ]
  },
  {
   "cell_type": "markdown",
   "metadata": {},
   "source": [
    "# GET GMAPS LINK"
   ]
  },
  {
   "cell_type": "code",
   "execution_count": 7,
   "metadata": {},
   "outputs": [],
   "source": [
    "def get_gmaps_link(lat, long, zoom_level):\n",
    "    return f\"https://www.google.com/maps/@{lat},{long},{zoom_level}z?\""
   ]
  },
  {
   "cell_type": "markdown",
   "metadata": {},
   "source": [
    "# SCREENSHOOT"
   ]
  },
  {
   "cell_type": "code",
   "execution_count": 8,
   "metadata": {},
   "outputs": [],
   "source": [
    "def make_screenshot(driver:webdriver.Chrome, link:str, save_to:str):\n",
    "    driver.get(link)\n",
    "    driver.save_screenshot(save_to)\n",
    "\n",
    "    return save_to"
   ]
  },
  {
   "cell_type": "markdown",
   "metadata": {},
   "source": [
    "# GET IMAGE RESOLUTION"
   ]
  },
  {
   "cell_type": "code",
   "execution_count": 9,
   "metadata": {},
   "outputs": [],
   "source": [
    "def get_image_resolution(image_path:str):\n",
    "    img = cv2.imread(image_path)\n",
    "    y,x,z = img.shape \n",
    "    return x, y #x=lat; y=long"
   ]
  },
  {
   "cell_type": "markdown",
   "metadata": {},
   "source": [
    "# OCR"
   ]
  },
  {
   "cell_type": "code",
   "execution_count": 10,
   "metadata": {},
   "outputs": [],
   "source": [
    "# # Initialize OCR\n",
    "# ocr = PaddleOCR(use_angle_cls= True, lang = \"id\")\n",
    "\n",
    "# # Path\n",
    "# image_path = \"./test.png\"\n",
    "# font_path = \"C:/Windows/Fonts/arial.ttf\"\n",
    "\n",
    "# # Perform OCR\n",
    "# result = ocr.ocr(image_path, cls=True)\n",
    "\n",
    "# # Load the image\n",
    "# image = cv2.imread(image_path)\n",
    "\n",
    "# # Extract\n",
    "# for line in result:\n",
    "#     for word in line:\n",
    "#         print(f\"Detected text: {word[1][0]}, confidence: {word[1][1]}\")\n",
    "\n",
    "# # Visualization\n",
    "# # Get the bounding box and corresponding text\n",
    "# boxes = [line[0] for line in result[0]]\n",
    "# txts = [line[1][0] for line in result[0]]\n",
    "# scores = [line[1][1] for line in result[0]]\n",
    "\n",
    "# # Draw the result on the image\n",
    "# image_with_boxes = draw_ocr(image, boxes, font_path = font_path)\n",
    "\n",
    "# # Convert the image from BGR to RGB (OpenCV loads images in BGR)\n",
    "# image_with_boxes = cv2.cvtColor(image_with_boxes, cv2.COLOR_BGR2RGB)\n",
    "\n",
    "# plt.imshow(image_with_boxes)\n",
    "# plt.show()"
   ]
  },
  {
   "cell_type": "markdown",
   "metadata": {},
   "source": [
    "# GET COORDINATE"
   ]
  },
  {
   "cell_type": "code",
   "execution_count": 11,
   "metadata": {},
   "outputs": [],
   "source": [
    "tag = \"!4m6!3m5!1s0x2e68498154b496b1:0x8ce79800c09324a2!8m2!3d-6.9199873!4d106.9417309!16s%2Fg%2F11s7w8jwvg?entry=ttu&g_ep=EgoyMDI0MTAyOS4wIKXMDSoASAFQAw%3D%3D\""
   ]
  },
  {
   "cell_type": "markdown",
   "metadata": {},
   "source": [
    "# EXECUTE"
   ]
  },
  {
   "cell_type": "code",
   "execution_count": 49,
   "metadata": {},
   "outputs": [
    {
     "name": "stdout",
     "output_type": "stream",
     "text": [
      "https://www.google.com/maps/@-6.9012147,106.8270525,19.5z?\n",
      "https://www.google.com/maps/@-6.9199396,106.9313055,19.5z?\n",
      "https://www.google.com/maps/@-6.9182459,106.9313055,19.5z?\n",
      "https://www.google.com/maps/@-6.9165522,106.9313055,19.5z?\n",
      "https://www.google.com/maps/@-6.9148586,106.9313055,19.5z?\n",
      "https://www.google.com/maps/@-6.9199396,106.9349469,19.5z?\n",
      "https://www.google.com/maps/@-6.9182459,106.9349469,19.5z?\n",
      "https://www.google.com/maps/@-6.9165522,106.9349469,19.5z?\n",
      "https://www.google.com/maps/@-6.9148586,106.9349469,19.5z?\n",
      "https://www.google.com/maps/@-6.9131649,106.9349469,19.5z?\n",
      "https://www.google.com/maps/@-6.9114712,106.9349469,19.5z?\n",
      "https://www.google.com/maps/@-6.9097775,106.9349469,19.5z?\n",
      "https://www.google.com/maps/@-6.9080839,106.9349469,19.5z?\n"
     ]
    }
   ],
   "source": [
    "#initiate browser\n",
    "driver = webdriver.Chrome(options=chrome_options)\n",
    "\n",
    "# first screenshoot\n",
    "print(get_gmaps_link(lat_test, long_test, zoom1))\n",
    "path_first_screenshoot = make_screenshot(driver, get_gmaps_link(lat_test, long_test, zoom1), f\"{path_output}/screenshoot_zoom_1.png\")\n",
    "\n",
    "# Periksa ukuran resolusi gambar\n",
    "res_x, res_y = get_image_resolution(path_first_screenshoot)\n",
    "\n",
    "# Import SHP\n",
    "geo_df_kota = gpd.read_file(path_shp)\n",
    "geo_df_kota.head()\n",
    "geo_kelurahan = geo_df_kota[(geo_df_kota[\"WADMKC\"]==kecamatan) & (geo_df_kota[\"WADMKD\"]==kelurahan)][\"geometry\"]\n",
    "\n",
    "# grid size\n",
    "x1_size, y1_size = calculate_grid_size(res_x,res_y,zoom1)\n",
    "x2_size, y2_size = calculate_grid_size(res_x,res_y,zoom2)\n",
    "\n",
    "# make grid maps\n",
    "grid1 = create_grid(geo_kelurahan,x1_size,y1_size)\n",
    "\n",
    "# centroid of each grid\n",
    "grid1 = get_centroid(grid1)\n",
    "\n",
    "#looping\n",
    "for i in range(len(grid1)):\n",
    "    l = get_gmaps_link(round(grid1['centroid'][i].y,7), round(grid1['centroid'][i].x,7),zoom1)\n",
    "    print(l)\n",
    "    make_screenshot(driver, l,f\"{path_output}/zoom1_{i+1}.png\")\n",
    "    \n",
    "\n",
    "driver.quit()"
   ]
  },
  {
   "cell_type": "code",
   "execution_count": 43,
   "metadata": {},
   "outputs": [
    {
     "data": {
      "text/plain": [
       "-6.919939574446243"
      ]
     },
     "execution_count": 43,
     "metadata": {},
     "output_type": "execute_result"
    }
   ],
   "source": [
    "grid1['centroid'][0].y\n",
    "# x"
   ]
  }
 ],
 "metadata": {
  "kernelspec": {
   "display_name": "replikasi-projek_SNAPWangi",
   "language": "python",
   "name": "python3"
  },
  "language_info": {
   "codemirror_mode": {
    "name": "ipython",
    "version": 3
   },
   "file_extension": ".py",
   "mimetype": "text/x-python",
   "name": "python",
   "nbconvert_exporter": "python",
   "pygments_lexer": "ipython3",
   "version": "3.9.20"
  }
 },
 "nbformat": 4,
 "nbformat_minor": 2
}

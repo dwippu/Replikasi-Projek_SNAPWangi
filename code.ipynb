{
 "cells": [
  {
   "cell_type": "markdown",
   "metadata": {},
   "source": [
    "# PERSIPAN PUSTAKA"
   ]
  },
  {
   "cell_type": "markdown",
   "metadata": {},
   "source": [
    "library dipakai:\n",
    "1. selenium\n",
    "2. beautifulsoup4\n",
    "3. paddleOCR\n",
    "4. cv2\n",
    "5. pandas\n",
    "6. geopandas\n",
    "7. shapely\n",
    "8. matplotlib"
   ]
  },
  {
   "cell_type": "code",
   "execution_count": null,
   "metadata": {},
   "outputs": [],
   "source": [
    "from selenium import webdriver\n",
    "from selenium.webdriver.chrome.options import Options\n",
    "from bs4 import BeautifulSoup as bs\n",
    "from matplotlib import pyplot as plt\n",
    "import cv2\n",
    "from paddleocr import PaddleOCR, draw_ocr\n",
    "import cv2\n",
    "from matplotlib import pyplot as plt"
   ]
  },
  {
   "cell_type": "markdown",
   "metadata": {},
   "source": [
    "Alur:\n",
    "1. buat screenshot layar\n",
    "2. dapatkan nama tempat dengan ocr, sekaligus koordinat pada layar\n",
    "3. hapus teks yang merupakan menu dari google maps\n",
    "4. hapus teks yang berupa nama jalan\n",
    "5. klik setiap nama tempat yang didapat\n",
    "6. dapatkan koordinat POI melalui link\n",
    "7. dapatkan detail dari tempat menggunakan bs4"
   ]
  },
  {
   "cell_type": "markdown",
   "metadata": {},
   "source": [
    "# CONFIG PARAMETER"
   ]
  },
  {
   "cell_type": "code",
   "execution_count": null,
   "metadata": {},
   "outputs": [],
   "source": [
    "#path shp file\n",
    "\n",
    "#pilih kelurahan\n",
    "\n",
    "#folder output\n",
    "path_output = \"output/\""
   ]
  },
  {
   "cell_type": "markdown",
   "metadata": {},
   "source": [
    "# CONFIG SELENIUM DRIVER"
   ]
  },
  {
   "cell_type": "code",
   "execution_count": null,
   "metadata": {},
   "outputs": [],
   "source": [
    "#windows option\n",
    "chrome_options = Options()\n",
    "chrome_options.add_argument(\"--start-maximized\")\n",
    "chrome_options.add_experimental_option(\"detach\",True)"
   ]
  },
  {
   "cell_type": "markdown",
   "metadata": {},
   "source": [
    "# SCREENSHOOT"
   ]
  },
  {
   "cell_type": "code",
   "execution_count": 3,
   "metadata": {},
   "outputs": [],
   "source": [
    "def make_screenshot(driver:webdriver.Chrome, link:str, save_to:str):\n",
    "    driver.get(link)\n",
    "    driver.save_screenshot(save_to)\n",
    "\n",
    "    #windows size\n",
    "    print(driver.get_window_size())"
   ]
  },
  {
   "cell_type": "markdown",
   "metadata": {},
   "source": [
    "# OCR"
   ]
  },
  {
   "cell_type": "code",
   "execution_count": null,
   "metadata": {},
   "outputs": [],
   "source": [
    "# Initialize OCR\n",
    "ocr = PaddleOCR(use_angle_cls= True, lang = \"id\")\n",
    "\n",
    "# Path\n",
    "image_path = \"./test.png\"\n",
    "font_path = \"C:/Windows/Fonts/arial.ttf\"\n",
    "\n",
    "# Perform OCR\n",
    "result = ocr.ocr(image_path, cls=True)\n",
    "\n",
    "# Load the image\n",
    "image = cv2.imread(image_path)\n",
    "\n",
    "# Extract\n",
    "for line in result:\n",
    "    for word in line:\n",
    "        print(f\"Detected text: {word[1][0]}, confidence: {word[1][1]}\")\n",
    "\n",
    "# Visualization\n",
    "# Get the bounding box and corresponding text\n",
    "boxes = [line[0] for line in result[0]]\n",
    "txts = [line[1][0] for line in result[0]]\n",
    "scores = [line[1][1] for line in result[0]]\n",
    "\n",
    "# Draw the result on the image\n",
    "image_with_boxes = draw_ocr(image, boxes, font_path = font_path)\n",
    "\n",
    "# Convert the image from BGR to RGB (OpenCV loads images in BGR)\n",
    "image_with_boxes = cv2.cvtColor(image_with_boxes, cv2.COLOR_BGR2RGB)\n",
    "\n",
    "plt.imshow(image_with_boxes)\n",
    "plt.show()"
   ]
  },
  {
   "cell_type": "markdown",
   "metadata": {},
   "source": [
    "# GET COORDINATE"
   ]
  },
  {
   "cell_type": "code",
   "execution_count": null,
   "metadata": {},
   "outputs": [],
   "source": [
    "tag = \"!4m6!3m5!1s0x2e68498154b496b1:0x8ce79800c09324a2!8m2!3d-6.9199873!4d106.9417309!16s%2Fg%2F11s7w8jwvg?entry=ttu&g_ep=EgoyMDI0MTAyOS4wIKXMDSoASAFQAw%3D%3D\""
   ]
  },
  {
   "cell_type": "markdown",
   "metadata": {},
   "source": [
    "# EXCEXUTE"
   ]
  },
  {
   "cell_type": "code",
   "execution_count": null,
   "metadata": {},
   "outputs": [
    {
     "name": "stdout",
     "output_type": "stream",
     "text": [
      "{'width': 1936, 'height': 1048}\n"
     ]
    }
   ],
   "source": [
    "#initiate browser\n",
    "driver = webdriver.Chrome(options=chrome_options)\n",
    "\n",
    "#looping\n",
    "\n",
    "#\n",
    "make_screenshot(driver, \"https://google.com\",\"ss.png\")\n",
    "\n",
    "# driver.quit()"
   ]
  }
 ],
 "metadata": {
  "kernelspec": {
   "display_name": "replikasi-projek_SNAPWangi",
   "language": "python",
   "name": "python3"
  },
  "language_info": {
   "codemirror_mode": {
    "name": "ipython",
    "version": 3
   },
   "file_extension": ".py",
   "mimetype": "text/x-python",
   "name": "python",
   "nbconvert_exporter": "python",
   "pygments_lexer": "ipython3",
   "version": "3.9.20"
  }
 },
 "nbformat": 4,
 "nbformat_minor": 2
}

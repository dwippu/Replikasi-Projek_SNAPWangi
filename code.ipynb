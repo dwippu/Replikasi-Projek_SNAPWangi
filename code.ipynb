{
 "cells": [
  {
   "cell_type": "markdown",
   "metadata": {},
   "source": [
    "# PERSIPAN PUSTAKA"
   ]
  },
  {
   "cell_type": "markdown",
   "metadata": {},
   "source": [
    "Pustaka dipakai:\n",
    "1. selenium\n",
    "2. beautifulsoup4\n",
    "3. paddleOCR\n",
    "4. cv2\n",
    "5. pandas\n",
    "6. geopandas\n",
    "7. shapely\n",
    "8. matplotlib"
   ]
  },
  {
   "cell_type": "code",
   "execution_count": 1,
   "metadata": {},
   "outputs": [],
   "source": [
    "# Library for Scrape\n",
    "from selenium import webdriver\n",
    "from selenium.webdriver.chrome.options import Options\n",
    "from bs4 import BeautifulSoup as bs\n",
    "\n",
    "# Visualization\n",
    "from matplotlib import pyplot as plt\n",
    "import cv2\n",
    "\n",
    "# Text Recognition\n",
    "from paddleocr import PaddleOCR, draw_ocr\n",
    "\n",
    "# Polygon Manipulation\n",
    "from shapely.geometry import Polygon, box\n",
    "\n",
    "# Dataframe Management\n",
    "import geopandas as gpd\n",
    "import pandas as pd\n",
    "\n",
    "# Runtime Monitoring\n",
    "import time"
   ]
  },
  {
   "cell_type": "markdown",
   "metadata": {},
   "source": [
    "Alur:\n",
    "1. Import file SHP\n",
    "2. Ekstrak polygon dari kelurahan yang ditentukan\n",
    "3. Buat grid untuk mempermudah menentukan lokasi screenshot\n",
    "    * Lakukan screenshot untuk dua level zoom mengetahui resolusi yang tersedia\n",
    "    * ukuran grid ditentukan berdasarkan resolusi yang diperoleh\n",
    "4. Buat screenshot layar berdasarkan grid yang terbentuk\n",
    "5. Dapatkan nama tempat dengan ocr, sekaligus koordinat pada layar\n",
    "6. Hapus teks yang merupakan menu dari Google Maps\n",
    "7. Hapus teks yang berupa nama jalan\n",
    "8. Klik setiap nama tempat yang didapat\n",
    "9. Dapatkan koordinat POI melalui link\n",
    "10. Dapatkan detail dari tempat menggunakan bs4\n",
    "11. Ulangi tahapan 4 - 10 untuk setiap grid yan didapat"
   ]
  },
  {
   "cell_type": "markdown",
   "metadata": {},
   "source": [
    "# CONFIG PARAMETER"
   ]
  },
  {
   "cell_type": "code",
   "execution_count": 2,
   "metadata": {},
   "outputs": [],
   "source": [
    "#path shp file\n",
    "path_shp = \"SHPFile Kota Sukabumi/3272.shp\"\n",
    "\n",
    "#pilih kelurahan\n",
    "kecamatan = \"Cikole\"\n",
    "kelurahan = \"Cikole\"\n",
    "\n",
    "#folder output\n",
    "path_output = \"output/\""
   ]
  },
  {
   "cell_type": "markdown",
   "metadata": {},
   "source": [
    "# CONFIG SELENIUM DRIVER AND BROWSER"
   ]
  },
  {
   "cell_type": "code",
   "execution_count": 3,
   "metadata": {},
   "outputs": [],
   "source": [
    "#windows option\n",
    "chrome_options = Options()\n",
    "chrome_options.add_argument(\"--start-maximized\") # windows size\n",
    "chrome_options.add_experimental_option(\"detach\",True)\n",
    "\n",
    "#zoom gmaps\n",
    "zoom1 = 20\n",
    "zoom2 = 20.5\n",
    "zoom3 = 21\n",
    "\n",
    "#test coordinat\n",
    "lat_test = -6.7135171\n",
    "long_test = 107.6786505\n",
    "#x=long; y=lat"
   ]
  },
  {
   "cell_type": "markdown",
   "metadata": {},
   "source": [
    "# CALCULATE GRID SIZE"
   ]
  },
  {
   "cell_type": "code",
   "execution_count": 4,
   "metadata": {},
   "outputs": [],
   "source": [
    "def calculate_grid_size(x, y, zoom_level):\n",
    "    x_size = (x/256)*(360/2**zoom_level)\n",
    "    y_size = (y/256)*(360/2**zoom_level)\n",
    "    return x_size, y_size"
   ]
  },
  {
   "cell_type": "markdown",
   "metadata": {},
   "source": [
    "# MAKE A GRID FROM MAPS"
   ]
  },
  {
   "cell_type": "code",
   "execution_count": 5,
   "metadata": {},
   "outputs": [],
   "source": [
    "# Fungsi untuk membagi poligon menjadi grid persegi panjang\n",
    "def create_grid(polygon:gpd.geoseries.GeoSeries, x_size:int, y_size:int):\n",
    "    minx, miny, maxx, maxy = float(polygon.bounds[\"minx\"]), float(polygon.bounds[\"miny\"]), float(polygon.bounds[\"maxx\"]), float(polygon.bounds[\"maxy\"])  # Mendapatkan batas-batas poligon\n",
    "    \n",
    "    # Menentukan jumlah grid yang dibutuhkan dalam arah x dan y\n",
    "    x_steps = int((maxx - minx) / x_size)\n",
    "    y_steps = int((maxy - miny) / y_size)\n",
    "    \n",
    "    grid = []\n",
    "    \n",
    "    # Membuat persegi panjang di dalam area yang tercover poligon\n",
    "    for i in range(x_steps):\n",
    "        for j in range(y_steps):\n",
    "            # Menentukan koordinat persegi panjang\n",
    "            x0 = minx + i * x_size * 0.995\n",
    "            y0 = miny + j * y_size * 0.995\n",
    "            x1 = x0 + x_size\n",
    "            y1 = y0 + y_size\n",
    "            \n",
    "            # Membuat persegi panjang dengan koordinat tersebut\n",
    "            rect = box(x0, y0, x1, y1)\n",
    "            \n",
    "            # Memeriksa apakah persegi panjang tumpang tindih dengan poligon\n",
    "            if rect.intersects(polygon.values):\n",
    "                grid.append(rect)\n",
    "    \n",
    "    return gpd.GeoDataFrame(geometry=grid, crs=\"EPSG:4326\")"
   ]
  },
  {
   "cell_type": "markdown",
   "metadata": {},
   "source": [
    "# GET CENTROID FOR EACH GRID"
   ]
  },
  {
   "cell_type": "code",
   "execution_count": 6,
   "metadata": {},
   "outputs": [],
   "source": [
    "def get_centroid(grid_list:gpd):\n",
    "    grid_list[\"centroid\"] =  grid_list.geometry.centroid\n",
    "    return grid_list"
   ]
  },
  {
   "cell_type": "markdown",
   "metadata": {},
   "source": [
    "# GET GMAPS LINK"
   ]
  },
  {
   "cell_type": "code",
   "execution_count": 7,
   "metadata": {},
   "outputs": [],
   "source": [
    "def get_gmaps_link(lat, long, zoom_level):\n",
    "    return f\"https://www.google.com/maps/@{lat},{long},{zoom_level}z?\""
   ]
  },
  {
   "cell_type": "markdown",
   "metadata": {},
   "source": [
    "# SCREENSHOOT"
   ]
  },
  {
   "cell_type": "code",
   "execution_count": 8,
   "metadata": {},
   "outputs": [],
   "source": [
    "def make_screenshot(driver:webdriver.Chrome, link:str, save_to:str):\n",
    "    driver.get(link)\n",
    "    driver.save_screenshot(save_to)\n",
    "\n",
    "    return save_to"
   ]
  },
  {
   "cell_type": "markdown",
   "metadata": {},
   "source": [
    "# GET IMAGE RESOLUTION"
   ]
  },
  {
   "cell_type": "code",
   "execution_count": 9,
   "metadata": {},
   "outputs": [],
   "source": [
    "def get_image_resolution(image_path:str):\n",
    "    img = cv2.imread(image_path)\n",
    "    y,x,z = img.shape \n",
    "    return x, y #x=lat; y=long"
   ]
  },
  {
   "cell_type": "markdown",
   "metadata": {},
   "source": [
    "# OCR"
   ]
  },
  {
   "cell_type": "code",
   "execution_count": null,
   "metadata": {},
   "outputs": [],
   "source": [
    "def detect_text(image_path, bin=False, inv=False):\n",
    "    # Path\n",
    "    font_path = \"C:/Windows/Fonts/arial.ttf\"\n",
    "\n",
    "    # Initialize OCR\n",
    "    ocr = PaddleOCR(use_angle_cls= True, lang = \"en\", ocr_version='PP-OCRv4', vis_font_path=font_path)\n",
    "\n",
    "    # Perform OCR\n",
    "    result = ocr.ocr(image_path, cls=True, bin=bin, inv=inv)\n",
    "\n",
    "    # Visualization\n",
    "    # Get the bounding box and corresponding text\n",
    "    boxes = [line[0] for line in result[0]]\n",
    "    txts = [line[1][0] for line in result[0]]\n",
    "    scores = [line[1][1] for line in result[0]]\n",
    "\n",
    "    boxes_centroid = [Polygon(line).centroid for line in boxes]\n",
    "    source = image_path\n",
    "\n",
    "    return pd.DataFrame({'text': txts, 'scores': scores, 'boxes': boxes, 'centroid':boxes_centroid, 'source':source})"
   ]
  },
  {
   "cell_type": "markdown",
   "metadata": {},
   "source": [
    "# SAVE IMAGE WITH BOXES"
   ]
  },
  {
   "cell_type": "code",
   "execution_count": 11,
   "metadata": {},
   "outputs": [],
   "source": [
    "def save_image_with_boxes(image_path, boxes, save_to:str):\n",
    "    # Load the image\n",
    "    image = cv2.imread(image_path)\n",
    "\n",
    "    image_with_boxes = draw_ocr(image, boxes)\n",
    "\n",
    "    # Convert the image from BGR to RGB (OpenCV loads images in BGR)\n",
    "    image_with_boxes = cv2.cvtColor(image_with_boxes, cv2.COLOR_BGR2RGB)\n",
    "\n",
    "    plt.imshow(image_with_boxes)\n",
    "    plt.savefig(save_to)"
   ]
  },
  {
   "cell_type": "markdown",
   "metadata": {},
   "source": [
    "# CLEANING TEXT"
   ]
  },
  {
   "cell_type": "code",
   "execution_count": null,
   "metadata": {},
   "outputs": [],
   "source": [
    "def cleaning_text(df_text):\n",
    "    # Hapus Menu Google\n",
    "\n",
    "    # Hapus nama jalan\n",
    "\n",
    "    return df_text"
   ]
  },
  {
   "cell_type": "markdown",
   "metadata": {},
   "source": [
    "# COLLECT PLACE"
   ]
  },
  {
   "cell_type": "code",
   "execution_count": null,
   "metadata": {},
   "outputs": [],
   "source": []
  },
  {
   "cell_type": "markdown",
   "metadata": {},
   "source": [
    "# GET PLACE'S DETAIL"
   ]
  },
  {
   "cell_type": "code",
   "execution_count": 13,
   "metadata": {},
   "outputs": [],
   "source": [
    "tag = \"!4m6!3m5!1s0x2e68498154b496b1:0x8ce79800c09324a2!8m2!3d-6.9199873!4d106.9417309!16s%2Fg%2F11s7w8jwvg?entry=ttu&g_ep=EgoyMDI0MTAyOS4wIKXMDSoASAFQAw%3D%3D\""
   ]
  },
  {
   "cell_type": "code",
   "execution_count": null,
   "metadata": {},
   "outputs": [],
   "source": []
  },
  {
   "cell_type": "markdown",
   "metadata": {},
   "source": [
    "# EXECUTE"
   ]
  },
  {
   "cell_type": "code",
   "execution_count": null,
   "metadata": {},
   "outputs": [],
   "source": [
    "#initiate browser\n",
    "driver = webdriver.Chrome(options=chrome_options)\n",
    "\n",
    "# first screenshoot\n",
    "path_first_screenshoot = make_screenshot(driver, get_gmaps_link(lat_test, long_test, zoom1), f\"{path_output}/screenshoot_zoom_1.png\")\n",
    "\n",
    "# Periksa ukuran resolusi gambar\n",
    "res_x, res_y = get_image_resolution(path_first_screenshoot)\n",
    "\n",
    "# Import SHP\n",
    "geo_df_kota = gpd.read_file(path_shp)\n",
    "geo_df_kota.head()\n",
    "geo_kelurahan = geo_df_kota[(geo_df_kota[\"WADMKC\"]==kecamatan) & (geo_df_kota[\"WADMKD\"]==kelurahan)][\"geometry\"]\n",
    "\n",
    "# grid size\n",
    "x1_size, y1_size = calculate_grid_size(res_x,res_y,zoom1)\n",
    "x2_size, y2_size = calculate_grid_size(res_x,res_y,zoom2)\n",
    "x3_size, y3_size = calculate_grid_size(res_x,res_y,zoom3)\n",
    "\n",
    "# make grid maps\n",
    "grid1 = create_grid(geo_kelurahan,x1_size,y1_size)\n",
    "grid3 = create_grid(geo_kelurahan,x3_size,y3_size)\n",
    "\n",
    "# centroid of each grid\n",
    "grid1 = get_centroid(grid1)\n",
    "grid3 = get_centroid(grid3)\n",
    "\n",
    "# Initiate Dataframe hasil\n",
    "df_result = pd.DataFrame()\n",
    "\n",
    "# looping 1\n",
    "for i in range(len(grid3)):\n",
    "    # l = get_gmaps_link(round(grid3['centroid'][i].y,7), round(grid3['centroid'][i].x,7),zoom3)\n",
    "    # img = make_screenshot(driver, l,f\"{path_output}screenshoot/zoom3_{i+1}.png\")\n",
    "    img=f\"{path_output}screenshoot/zoom3_{i+1}.png\"\n",
    "    \n",
    "    result = detect_text(img)\n",
    "    save_image_with_boxes(img,result['boxes'],f\"{path_output}ocr_result/zoom1_{i+1}.png\")\n",
    "    \n",
    "    result2 = detect_text(img, bin=True, inv=True)\n",
    "    save_image_with_boxes(img,result2['boxes'],f\"{path_output}ocr_result2/zoom1_{i+1}.png\")\n",
    "    \n",
    "    df_result = pd.concat([df_result, result], ignore_index=True, axis=0)\n",
    "    df_result = pd.concat([df_result, result2], ignore_index=True, axis=0)\n",
    "\n",
    "    clean_result = cleaning_text(result)\n",
    "\n",
    "# looping 3\n",
    "for i in range(len(grid3)):\n",
    "    # l = get_gmaps_link(round(grid3['centroid'][i].y,7), round(grid3['centroid'][i].x,7),zoom3)\n",
    "    # img = make_screenshot(driver, l,f\"{path_output}screenshoot/zoom3_{i+1}.png\")\n",
    "    img=f\"{path_output}screenshoot/zoom3_{i+1}.png\"\n",
    "    \n",
    "    result = detect_text(img)\n",
    "    save_image_with_boxes(img,result['boxes'],f\"{path_output}ocr_result/zoom3_{i+1}.png\")\n",
    "    \n",
    "    result2 = detect_text(img, bin=True, inv=True)\n",
    "    save_image_with_boxes(img,result2['boxes'],f\"{path_output}ocr_result2/zoom3_{i+1}.png\")\n",
    "    \n",
    "    df_result = pd.concat([df_result, result], ignore_index=True, axis=0)\n",
    "    df_result = pd.concat([df_result, result2], ignore_index=True, axis=0)\n",
    "\n",
    "    clean_result = cleaning_text(result)\n",
    "\n",
    "driver.quit()"
   ]
  },
  {
   "cell_type": "code",
   "execution_count": 31,
   "metadata": {},
   "outputs": [
    {
     "data": {
      "text/html": [
       "<div>\n",
       "<style scoped>\n",
       "    .dataframe tbody tr th:only-of-type {\n",
       "        vertical-align: middle;\n",
       "    }\n",
       "\n",
       "    .dataframe tbody tr th {\n",
       "        vertical-align: top;\n",
       "    }\n",
       "\n",
       "    .dataframe thead th {\n",
       "        text-align: right;\n",
       "    }\n",
       "</style>\n",
       "<table border=\"1\" class=\"dataframe\">\n",
       "  <thead>\n",
       "    <tr style=\"text-align: right;\">\n",
       "      <th></th>\n",
       "      <th>text</th>\n",
       "      <th>scores</th>\n",
       "      <th>boxes</th>\n",
       "      <th>centroid</th>\n",
       "    </tr>\n",
       "  </thead>\n",
       "  <tbody>\n",
       "    <tr>\n",
       "      <th>0</th>\n",
       "      <td>6 Syamsudin. SH</td>\n",
       "      <td>0.910833</td>\n",
       "      <td>[[1656.0, 0.0], [1779.0, 31.0], [1772.0, 56.0]...</td>\n",
       "      <td>POINT (1716.5611413043478 27.23641304347826)</td>\n",
       "    </tr>\n",
       "    <tr>\n",
       "      <th>1</th>\n",
       "      <td>I</td>\n",
       "      <td>0.813640</td>\n",
       "      <td>[[24.0, 26.0], [46.0, 26.0], [46.0, 46.0], [24...</td>\n",
       "      <td>POINT (35 36)</td>\n",
       "    </tr>\n",
       "    <tr>\n",
       "      <th>2</th>\n",
       "      <td>Telusuri Google Maps</td>\n",
       "      <td>0.975613</td>\n",
       "      <td>[[108.0, 22.0], [248.0, 24.0], [248.0, 46.0], ...</td>\n",
       "      <td>POINT (178 34)</td>\n",
       "    </tr>\n",
       "    <tr>\n",
       "      <th>3</th>\n",
       "      <td>Q</td>\n",
       "      <td>0.942697</td>\n",
       "      <td>[[376.0, 24.0], [394.0, 24.0], [394.0, 44.0], ...</td>\n",
       "      <td>POINT (385 34)</td>\n",
       "    </tr>\n",
       "    <tr>\n",
       "      <th>4</th>\n",
       "      <td>JI.Syamsu</td>\n",
       "      <td>0.931889</td>\n",
       "      <td>[[1836.0, 58.0], [1919.0, 88.0], [1914.0, 110....</td>\n",
       "      <td>POINT (1873.9240506329113 83.9493670886076)</td>\n",
       "    </tr>\n",
       "    <tr>\n",
       "      <th>5</th>\n",
       "      <td>Disimpar</td>\n",
       "      <td>0.992039</td>\n",
       "      <td>[[12.0, 104.0], [58.0, 104.0], [58.0, 120.0], ...</td>\n",
       "      <td>POINT (35 112)</td>\n",
       "    </tr>\n",
       "    <tr>\n",
       "      <th>6</th>\n",
       "      <td>Like Earth Coffee</td>\n",
       "      <td>0.979770</td>\n",
       "      <td>[[1232.0, 112.0], [1360.0, 112.0], [1360.0, 13...</td>\n",
       "      <td>POINT (1296 123)</td>\n",
       "    </tr>\n",
       "    <tr>\n",
       "      <th>7</th>\n",
       "      <td>Terbar</td>\n",
       "      <td>0.997732</td>\n",
       "      <td>[[16.0, 177.0], [50.0, 177.0], [50.0, 191.0], ...</td>\n",
       "      <td>POINT (33 184)</td>\n",
       "    </tr>\n",
       "    <tr>\n",
       "      <th>8</th>\n",
       "      <td>Maxan xie oba</td>\n",
       "      <td>0.615168</td>\n",
       "      <td>[[1332.0, 221.0], [1456.0, 221.0], [1456.0, 25...</td>\n",
       "      <td>POINT (1394 239)</td>\n",
       "    </tr>\n",
       "    <tr>\n",
       "      <th>9</th>\n",
       "      <td>Miamay Crunchy</td>\n",
       "      <td>0.865180</td>\n",
       "      <td>[[1485.0, 235.0], [1614.0, 239.0], [1613.0, 26...</td>\n",
       "      <td>POINT (1549 251)</td>\n",
       "    </tr>\n",
       "    <tr>\n",
       "      <th>10</th>\n",
       "      <td>BASAH (ibu Aas)</td>\n",
       "      <td>0.980322</td>\n",
       "      <td>[[350.0, 281.0], [458.0, 281.0], [458.0, 301.0...</td>\n",
       "      <td>POINT (404 291)</td>\n",
       "    </tr>\n",
       "    <tr>\n",
       "      <th>11</th>\n",
       "      <td>Ajid</td>\n",
       "      <td>0.745769</td>\n",
       "      <td>[[652.0, 303.0], [668.0, 303.0], [668.0, 333.0...</td>\n",
       "      <td>POINT (660 318)</td>\n",
       "    </tr>\n",
       "    <tr>\n",
       "      <th>12</th>\n",
       "      <td>Sayang Jalak O</td>\n",
       "      <td>0.924821</td>\n",
       "      <td>[[204.0, 726.0], [315.0, 719.0], [316.0, 741.0...</td>\n",
       "      <td>POINT (260 733.5)</td>\n",
       "    </tr>\n",
       "    <tr>\n",
       "      <th>13</th>\n",
       "      <td>Google</td>\n",
       "      <td>0.999810</td>\n",
       "      <td>[[961.0, 847.0], [1029.0, 852.0], [1027.0, 876...</td>\n",
       "      <td>POINT (994 861.5)</td>\n",
       "    </tr>\n",
       "    <tr>\n",
       "      <th>14</th>\n",
       "      <td>Syamsudin. SH</td>\n",
       "      <td>0.986379</td>\n",
       "      <td>[[1663.0, 0.0], [1780.0, 30.0], [1771.0, 58.0]...</td>\n",
       "      <td>POINT (1720.335294117647 27.791176470588237)</td>\n",
       "    </tr>\n",
       "    <tr>\n",
       "      <th>15</th>\n",
       "      <td>-</td>\n",
       "      <td>0.549272</td>\n",
       "      <td>[[30.0, 30.0], [44.0, 30.0], [44.0, 44.0], [30...</td>\n",
       "      <td>POINT (37 37)</td>\n",
       "    </tr>\n",
       "    <tr>\n",
       "      <th>16</th>\n",
       "      <td>Telusuri Google Maps</td>\n",
       "      <td>0.987015</td>\n",
       "      <td>[[108.0, 24.0], [250.0, 26.0], [250.0, 46.0], ...</td>\n",
       "      <td>POINT (179 35)</td>\n",
       "    </tr>\n",
       "    <tr>\n",
       "      <th>17</th>\n",
       "      <td>Jl.Syamsua</td>\n",
       "      <td>0.891038</td>\n",
       "      <td>[[1836.0, 58.0], [1919.0, 88.0], [1918.0, 110....</td>\n",
       "      <td>POINT (1874.4789008832188 83.88092901537455)</td>\n",
       "    </tr>\n",
       "    <tr>\n",
       "      <th>18</th>\n",
       "      <td>41</td>\n",
       "      <td>0.882473</td>\n",
       "      <td>[[1032.0, 88.0], [1056.0, 88.0], [1056.0, 104....</td>\n",
       "      <td>POINT (1044 96)</td>\n",
       "    </tr>\n",
       "    <tr>\n",
       "      <th>19</th>\n",
       "      <td>Disimpan</td>\n",
       "      <td>0.998515</td>\n",
       "      <td>[[11.0, 101.0], [63.0, 106.0], [61.0, 122.0], ...</td>\n",
       "      <td>POINT (36 111.5)</td>\n",
       "    </tr>\n",
       "  </tbody>\n",
       "</table>\n",
       "</div>"
      ],
      "text/plain": [
       "                    text    scores  \\\n",
       "0        6 Syamsudin. SH  0.910833   \n",
       "1                      I  0.813640   \n",
       "2   Telusuri Google Maps  0.975613   \n",
       "3                      Q  0.942697   \n",
       "4              JI.Syamsu  0.931889   \n",
       "5               Disimpar  0.992039   \n",
       "6     Like Earth Coffee   0.979770   \n",
       "7                 Terbar  0.997732   \n",
       "8         Maxan xie oba   0.615168   \n",
       "9         Miamay Crunchy  0.865180   \n",
       "10       BASAH (ibu Aas)  0.980322   \n",
       "11                  Ajid  0.745769   \n",
       "12        Sayang Jalak O  0.924821   \n",
       "13                Google  0.999810   \n",
       "14         Syamsudin. SH  0.986379   \n",
       "15                     -  0.549272   \n",
       "16  Telusuri Google Maps  0.987015   \n",
       "17            Jl.Syamsua  0.891038   \n",
       "18                    41  0.882473   \n",
       "19              Disimpan  0.998515   \n",
       "\n",
       "                                                boxes  \\\n",
       "0   [[1656.0, 0.0], [1779.0, 31.0], [1772.0, 56.0]...   \n",
       "1   [[24.0, 26.0], [46.0, 26.0], [46.0, 46.0], [24...   \n",
       "2   [[108.0, 22.0], [248.0, 24.0], [248.0, 46.0], ...   \n",
       "3   [[376.0, 24.0], [394.0, 24.0], [394.0, 44.0], ...   \n",
       "4   [[1836.0, 58.0], [1919.0, 88.0], [1914.0, 110....   \n",
       "5   [[12.0, 104.0], [58.0, 104.0], [58.0, 120.0], ...   \n",
       "6   [[1232.0, 112.0], [1360.0, 112.0], [1360.0, 13...   \n",
       "7   [[16.0, 177.0], [50.0, 177.0], [50.0, 191.0], ...   \n",
       "8   [[1332.0, 221.0], [1456.0, 221.0], [1456.0, 25...   \n",
       "9   [[1485.0, 235.0], [1614.0, 239.0], [1613.0, 26...   \n",
       "10  [[350.0, 281.0], [458.0, 281.0], [458.0, 301.0...   \n",
       "11  [[652.0, 303.0], [668.0, 303.0], [668.0, 333.0...   \n",
       "12  [[204.0, 726.0], [315.0, 719.0], [316.0, 741.0...   \n",
       "13  [[961.0, 847.0], [1029.0, 852.0], [1027.0, 876...   \n",
       "14  [[1663.0, 0.0], [1780.0, 30.0], [1771.0, 58.0]...   \n",
       "15  [[30.0, 30.0], [44.0, 30.0], [44.0, 44.0], [30...   \n",
       "16  [[108.0, 24.0], [250.0, 26.0], [250.0, 46.0], ...   \n",
       "17  [[1836.0, 58.0], [1919.0, 88.0], [1918.0, 110....   \n",
       "18  [[1032.0, 88.0], [1056.0, 88.0], [1056.0, 104....   \n",
       "19  [[11.0, 101.0], [63.0, 106.0], [61.0, 122.0], ...   \n",
       "\n",
       "                                        centroid  \n",
       "0   POINT (1716.5611413043478 27.23641304347826)  \n",
       "1                                  POINT (35 36)  \n",
       "2                                 POINT (178 34)  \n",
       "3                                 POINT (385 34)  \n",
       "4    POINT (1873.9240506329113 83.9493670886076)  \n",
       "5                                 POINT (35 112)  \n",
       "6                               POINT (1296 123)  \n",
       "7                                 POINT (33 184)  \n",
       "8                               POINT (1394 239)  \n",
       "9                               POINT (1549 251)  \n",
       "10                               POINT (404 291)  \n",
       "11                               POINT (660 318)  \n",
       "12                             POINT (260 733.5)  \n",
       "13                             POINT (994 861.5)  \n",
       "14  POINT (1720.335294117647 27.791176470588237)  \n",
       "15                                 POINT (37 37)  \n",
       "16                                POINT (179 35)  \n",
       "17  POINT (1874.4789008832188 83.88092901537455)  \n",
       "18                               POINT (1044 96)  \n",
       "19                              POINT (36 111.5)  "
      ]
     },
     "execution_count": 31,
     "metadata": {},
     "output_type": "execute_result"
    }
   ],
   "source": [
    "df_result.head(20)"
   ]
  }
 ],
 "metadata": {
  "kernelspec": {
   "display_name": "replikasi-projek_SNAPWangi",
   "language": "python",
   "name": "python3"
  },
  "language_info": {
   "codemirror_mode": {
    "name": "ipython",
    "version": 3
   },
   "file_extension": ".py",
   "mimetype": "text/x-python",
   "name": "python",
   "nbconvert_exporter": "python",
   "pygments_lexer": "ipython3",
   "version": "3.9.20"
  }
 },
 "nbformat": 4,
 "nbformat_minor": 2
}

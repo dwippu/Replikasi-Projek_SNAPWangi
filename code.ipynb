{
 "cells": [
  {
   "cell_type": "markdown",
   "metadata": {},
   "source": [
    "# PERSIPAN PUSTAKA"
   ]
  },
  {
   "cell_type": "markdown",
   "metadata": {},
   "source": [
    "Pustaka dipakai:\n",
    "1. selenium\n",
    "2. beautifulsoup4\n",
    "3. paddleOCR\n",
    "4. cv2\n",
    "5. pandas\n",
    "6. geopandas\n",
    "7. shapely\n",
    "8. matplotlib"
   ]
  },
  {
   "cell_type": "code",
   "execution_count": 1,
   "metadata": {},
   "outputs": [],
   "source": [
    "# Library for Scrape\n",
    "from selenium import webdriver\n",
    "from selenium.webdriver.chrome.options import Options\n",
    "from selenium.webdriver.common.by import By\n",
    "from bs4 import BeautifulSoup as bs\n",
    "from a_selenium_click_on_coords import click_on_coordinates\n",
    "\n",
    "# Visualization\n",
    "from matplotlib import pyplot as plt\n",
    "import cv2\n",
    "\n",
    "# Text Recognition\n",
    "from paddleocr import PaddleOCR, draw_ocr\n",
    "\n",
    "# Polygon Manipulation\n",
    "from shapely.geometry import Polygon, box, Point\n",
    "from shapely import distance\n",
    "\n",
    "# Dataframe Management\n",
    "import geopandas as gpd\n",
    "import pandas as pd\n",
    "import numpy as np\n",
    "\n",
    "# Runtime Monitoring\n",
    "import time"
   ]
  },
  {
   "cell_type": "markdown",
   "metadata": {},
   "source": [
    "Alur:\n",
    "1. Import file SHP\n",
    "2. Ekstrak polygon dari kelurahan yang ditentukan\n",
    "3. Buat grid untuk mempermudah menentukan lokasi screenshot\n",
    "    * Lakukan screenshot untuk dua level zoom mengetahui resolusi yang tersedia\n",
    "    * ukuran grid ditentukan berdasarkan resolusi yang diperoleh\n",
    "4. Buat screenshot layar berdasarkan grid yang terbentuk\n",
    "5. Dapatkan nama tempat dengan ocr, sekaligus koordinat pada layar\n",
    "6. Hapus teks yang merupakan menu dari Google Maps\n",
    "7. Hapus teks yang berupa nama jalan\n",
    "8. Klik setiap nama tempat yang didapat\n",
    "9. Dapatkan koordinat POI melalui link\n",
    "10. Dapatkan detail dari tempat menggunakan bs4\n",
    "11. Ulangi tahapan 4 - 10 untuk setiap grid yan didapat"
   ]
  },
  {
   "cell_type": "markdown",
   "metadata": {},
   "source": [
    "# CONFIG PARAMETER"
   ]
  },
  {
   "cell_type": "code",
   "execution_count": 2,
   "metadata": {},
   "outputs": [],
   "source": [
    "#path shp file\n",
    "path_shp = \"SHPFile Kota Sukabumi/3272.shp\"\n",
    "\n",
    "#pilih kelurahan\n",
    "kecamatan = \"Cikole\"\n",
    "kelurahan = \"Cikole\"\n",
    "\n",
    "#folder output\n",
    "path_output = \"output/\""
   ]
  },
  {
   "cell_type": "markdown",
   "metadata": {},
   "source": [
    "# CONFIG SELENIUM DRIVER AND BROWSER"
   ]
  },
  {
   "cell_type": "code",
   "execution_count": 3,
   "metadata": {},
   "outputs": [],
   "source": [
    "#windows option\n",
    "chrome_options = Options()\n",
    "chrome_options.add_argument(\"--start-maximized\") # windows size\n",
    "chrome_options.add_experimental_option(\"detach\",True)\n",
    "\n",
    "#zoom gmaps\n",
    "zoom1 = 20\n",
    "zoom2 = 20.5\n",
    "zoom3 = 21\n",
    "\n",
    "#test coordinat\n",
    "lat_test = -6.7135171\n",
    "long_test = 107.6786505\n",
    "#x=long; y=lat"
   ]
  },
  {
   "cell_type": "markdown",
   "metadata": {},
   "source": [
    "# CALCULATE GRID SIZE"
   ]
  },
  {
   "cell_type": "code",
   "execution_count": 4,
   "metadata": {},
   "outputs": [],
   "source": [
    "def calculate_grid_size(x, y, zoom_level):\n",
    "    x_size = (x/256)*(360/2**zoom_level)\n",
    "    y_size = (y/256)*(360/2**zoom_level)\n",
    "    return x_size, y_size"
   ]
  },
  {
   "cell_type": "markdown",
   "metadata": {},
   "source": [
    "# MAKE A GRID FROM MAPS"
   ]
  },
  {
   "cell_type": "code",
   "execution_count": 5,
   "metadata": {},
   "outputs": [],
   "source": [
    "# Fungsi untuk membagi poligon menjadi grid persegi panjang\n",
    "def create_grid(polygon:gpd.geoseries.GeoSeries, x_size:int, y_size:int):\n",
    "    minx, miny, maxx, maxy = float(polygon.bounds[\"minx\"]), float(polygon.bounds[\"miny\"]), float(polygon.bounds[\"maxx\"]), float(polygon.bounds[\"maxy\"])  # Mendapatkan batas-batas poligon\n",
    "    \n",
    "    # Menentukan jumlah grid yang dibutuhkan dalam arah x dan y\n",
    "    x1 = -np.inf #int(math.ceil((maxx - minx) / x_size))\n",
    "    i = 0\n",
    "    grid = []\n",
    "    \n",
    "    # Membuat persegi panjang di dalam area poligon\n",
    "    while x1 < maxx:\n",
    "        j = 0\n",
    "        y1 = -np.inf #int(math.ceil((maxy - miny) / y_size))\n",
    "        while y1 < maxy:\n",
    "            # Menentukan koordinat persegi panjang\n",
    "            x0 = minx + i * x_size * 0.995\n",
    "            y0 = miny + j * y_size * 0.995\n",
    "            x1 = x0 + x_size\n",
    "            y1 = y0 + y_size\n",
    "            \n",
    "            # Membuat persegi panjang dengan koordinat tersebut\n",
    "            rect = box(x0, y0, x1, y1)\n",
    "            \n",
    "            # Memeriksa apakah persegi panjang tumpang tindih dengan poligon\n",
    "            if rect.intersects(polygon.values):\n",
    "                grid.append(rect)\n",
    "            j+=1\n",
    "        i+=1\n",
    "    \n",
    "    print(f\"Berhasil membentuk grid sebanyak {len(grid)}\")\n",
    "    return gpd.GeoDataFrame(geometry=grid, crs=\"EPSG:4326\")"
   ]
  },
  {
   "cell_type": "markdown",
   "metadata": {},
   "source": [
    "# GET CENTROID FOR EACH GRID"
   ]
  },
  {
   "cell_type": "code",
   "execution_count": 6,
   "metadata": {},
   "outputs": [],
   "source": [
    "def get_centroid(grid_list:gpd):\n",
    "    grid_list[\"centroid\"] =  grid_list.geometry.centroid\n",
    "    return grid_list"
   ]
  },
  {
   "cell_type": "markdown",
   "metadata": {},
   "source": [
    "# GET GMAPS LINK"
   ]
  },
  {
   "cell_type": "code",
   "execution_count": 7,
   "metadata": {},
   "outputs": [],
   "source": [
    "def get_gmaps_link(lat, long, zoom_level):\n",
    "    return f\"https://www.google.com/maps/@{lat},{long},{zoom_level}z?\""
   ]
  },
  {
   "cell_type": "markdown",
   "metadata": {},
   "source": [
    "# SCREENSHOOT"
   ]
  },
  {
   "cell_type": "code",
   "execution_count": 8,
   "metadata": {},
   "outputs": [],
   "source": [
    "def make_screenshot(driver:webdriver.Chrome, link:str, save_to:str):\n",
    "    driver.get(link)\n",
    "    time.sleep(0.5)\n",
    "    # WebDriverWait(driver,5).until(EC.presence_of_all_elements_located((By.CSS_SELECTOR, \"#QA0Szd\")))\n",
    "    driver.save_screenshot(save_to)\n",
    "\n",
    "    return save_to"
   ]
  },
  {
   "cell_type": "markdown",
   "metadata": {},
   "source": [
    "# GET IMAGE RESOLUTION"
   ]
  },
  {
   "cell_type": "code",
   "execution_count": 9,
   "metadata": {},
   "outputs": [],
   "source": [
    "def get_image_resolution(image_path:str):\n",
    "    img = cv2.imread(image_path)\n",
    "    y,x,z = img.shape \n",
    "    return x, y #x=lat; y=long"
   ]
  },
  {
   "cell_type": "markdown",
   "metadata": {},
   "source": [
    "# OCR"
   ]
  },
  {
   "cell_type": "code",
   "execution_count": 10,
   "metadata": {},
   "outputs": [],
   "source": [
    "def detect_text(image_path, bin=False, inv=False, link_map=\"\"):\n",
    "    # Path\n",
    "    font_path = \"C:/Windows/Fonts/arial.ttf\"\n",
    "\n",
    "    # Initialize OCR\n",
    "    ocr = PaddleOCR(use_angle_cls= True, lang = \"en\", ocr_version='PP-OCRv4', vis_font_path=font_path)\n",
    "\n",
    "    # Perform OCR\n",
    "    result = ocr.ocr(image_path, cls=True, bin=bin, inv=inv)\n",
    "\n",
    "    # Visualization\n",
    "    # Get the bounding box and corresponding text\n",
    "    boxes = [line[0] for line in result[0]]\n",
    "    txts = [line[1][0] for line in result[0]]\n",
    "    scores = [line[1][1] for line in result[0]]\n",
    "\n",
    "    boxes_centroid = [Polygon(line).centroid for line in boxes]\n",
    "    source = link_map\n",
    "\n",
    "    return pd.DataFrame({'text': txts, 'scores': scores, 'boxes': boxes, 'centroid':boxes_centroid, 'source':source})"
   ]
  },
  {
   "cell_type": "markdown",
   "metadata": {},
   "source": [
    "# SAVE IMAGE WITH BOXES"
   ]
  },
  {
   "cell_type": "code",
   "execution_count": 11,
   "metadata": {},
   "outputs": [],
   "source": [
    "def save_image_with_boxes(image_path, boxes, save_to:str):\n",
    "    # Load the image\n",
    "    image = cv2.imread(image_path)\n",
    "\n",
    "    image_with_boxes = draw_ocr(image, boxes)\n",
    "\n",
    "    # Convert the image from BGR to RGB (OpenCV loads images in BGR)\n",
    "    image_with_boxes = cv2.cvtColor(image_with_boxes, cv2.COLOR_BGR2RGB)\n",
    "\n",
    "    plt.imshow(image_with_boxes)\n",
    "    plt.savefig(save_to)"
   ]
  },
  {
   "cell_type": "markdown",
   "metadata": {},
   "source": [
    "# CLEANING TEXT"
   ]
  },
  {
   "cell_type": "code",
   "execution_count": 12,
   "metadata": {},
   "outputs": [],
   "source": [
    "def cleaning_text(df_text):\n",
    "    \n",
    "    exclude_list = [\"disimpan\", \"disimpar\", \"i\", \"google\", \"atm\", \"museum\", \"an atm\", \"hotel\", \"googl\", \"rekomendasi aktivitas\", \"transportasi umum\", \"itn atm\", \"area ini\", \"terbaru\", \"login\", \"+\", \"y1 restoran\", \"restoran\", \"apotek\", \"telusuri google maps\", \"tidak ada info lalu lintas\", \"lapisan\", \"lapisar\", \"lapisa\", \"+|\", \"gogle\"]\n",
    "    exclude_specified_position = [Point(1799, 30), Point(35,37), Point(35,112.5), Point(33,184), Point(1885,809), Point(1858,31), Point(549,36), Point(644,36)]\n",
    "    df_text[\"text\"] = df_text[\"text\"].str.lower()\n",
    "    df_text[\"text\"] = df_text[\"text\"].str.strip()\n",
    "\n",
    "    # Hapus Menu Google, \n",
    "    df_text = df_text[~df_text[\"text\"].isin(exclude_list)]\n",
    "    for i, r in df_text.iterrows():\n",
    "        for j in exclude_specified_position:\n",
    "            if distance(j, r[\"centroid\"])<5:\n",
    "                df_text.drop(index=i, inplace=True)\n",
    "                break\n",
    "    \n",
    "    # Hapus nama jalan\n",
    "    df_text = df_text[~df_text['text'].str.startswith('jl')]\n",
    "    df_text = df_text[~df_text['text'].str.startswith('ji')]\n",
    "    df_text = df_text[~df_text['text'].str.startswith('gg')]\n",
    "\n",
    "    #hapus lainnya\n",
    "    df_text = df_text[~df_text['text'].str.startswith('lalin')]\n",
    "    df_text = df_text[~df_text['text'].str.startswith('tidak ada')]\n",
    "    df_text = df_text[~df_text['text'].str.startswith('telusuri google')]\n",
    "    \n",
    "    df_text.reset_index(inplace=True, drop=True)\n",
    "\n",
    "    return df_text"
   ]
  },
  {
   "cell_type": "markdown",
   "metadata": {},
   "source": [
    "# COLLECT PLACE"
   ]
  },
  {
   "cell_type": "code",
   "execution_count": 13,
   "metadata": {},
   "outputs": [],
   "source": [
    "def collect_place(destination, df):\n",
    "    if \"text\" not in destination.columns:\n",
    "        destination[\"text\"] = []\n",
    "\n",
    "    df = df[~(df[\"text\"].isin(destination[\"text\"]))]\n",
    "    destination = pd.concat([destination, df], ignore_index=True, axis=0)\n",
    "    # destination.reset_index(drop=True, inplace=True)\n",
    "    \n",
    "    return destination"
   ]
  },
  {
   "cell_type": "markdown",
   "metadata": {},
   "source": [
    "# GET PLACE'S DETAIL"
   ]
  },
  {
   "cell_type": "code",
   "execution_count": null,
   "metadata": {},
   "outputs": [],
   "source": [
    "def get_point_coor(link):\n",
    "    # batas untuk memotong\n",
    "    first = link.find(\"!3d\")+3\n",
    "    last = link.find(\"!16\")\n",
    "    \n",
    "    # potong    \n",
    "    tag = link[first:last]\n",
    "\n",
    "    return tag.split(\"!4d\")"
   ]
  },
  {
   "cell_type": "code",
   "execution_count": 15,
   "metadata": {},
   "outputs": [],
   "source": [
    "def add_column(df):\n",
    "    col = [\"latitude\", \"longitude\", \"nama\", \"kategori\", \"telp\", \"alamat\", \"website\", \"last_review\", \"date_last_review\", \"last_review_rating\", \"link\"]\n",
    "    for i in col:\n",
    "        if i not in df.columns:\n",
    "            df[f\"{i}\"] = None\n",
    "\n",
    "    return df"
   ]
  },
  {
   "cell_type": "code",
   "execution_count": null,
   "metadata": {},
   "outputs": [],
   "source": [
    "def get_places_detail(driver, df_result):\n",
    "    df_result = add_column(df_result)\n",
    "    for i, data in df_result.iterrows():\n",
    "        # buka lagi webnya\n",
    "        driver.get(data[\"source\"])\n",
    "        time.sleep(0.9)\n",
    "        \n",
    "        # Klik nama tempat\n",
    "        try: \n",
    "            click_on_coordinates(driver,int(round(data[\"centroid\"].x, 0)),int(round(data[\"centroid\"].y,0)))\n",
    "        except:\n",
    "            continue\n",
    "        time.sleep(2.5)\n",
    "\n",
    "        # Periksa apakah tampilan detail tempat telah muncul, jika tidak ada maka beri isian \"Na\" untuk semua kolom dan lanjut ke baris berikutnya\n",
    "        if len(driver.find_elements(By.CLASS_NAME, 'ZKCDEc')) == 0:\n",
    "            continue\n",
    "        time.sleep(0.5)\n",
    "        \n",
    "        # Ambil nama tempat dan kegiatan usaha\n",
    "        name_element = driver.find_element(By.CSS_SELECTOR, 'h1.DUwDvf.lfPIob')\n",
    "        df_result[\"nama\"][i] = name_element.text\n",
    "        try:\n",
    "            category_element = driver.find_element(By.CSS_SELECTOR, 'button.DkEaL ')\n",
    "            df_result[\"kategori\"][i] = category_element.text\n",
    "        except:\n",
    "            pass\n",
    "\n",
    "        # Ambil link kemudian ekstrak koordinat dari POI kemudian periksa apakah telah ada yang sama pada baris sebelumnya, jika ada buang dan lanjut pada baris selanjutnya\n",
    "        url = driver.current_url\n",
    "        lat, long = get_point_coor(url)\n",
    "        if f\"{lat},{long}\" in list(df_result['latitude']+\",\"+df_result['longitude']):\n",
    "            df_result.drop(index=i, inplace=True)\n",
    "            continue\n",
    "        df_result[\"latitude\"][i] = lat\n",
    "        df_result[\"longitude\"][i] = long\n",
    "        df_result[\"link\"][i] = url\n",
    "\n",
    "        # Ambil email, nomor telp., alamat, website\n",
    "        identity_element = driver.find_elements(By.CLASS_NAME, \"CsEnBe\")\n",
    "        for element in identity_element:\n",
    "            identity = str(element.get_attribute(\"aria-label\"))          \n",
    "            if identity.startswith(\"Telepon\"):\n",
    "                df_result[\"telp\"][i] = identity\n",
    "            elif identity.startswith(\"Alamat\"):\n",
    "                df_result[\"alamat\"][i] = identity\n",
    "            elif identity.startswith(\"Situs Web\"):\n",
    "                df_result[\"website\"][i] = identity\n",
    "\n",
    "        # Ambil Last Review\n",
    "        try:\n",
    "            driver.find_element(By.XPATH, f'//*[@aria-label=\"Ulasan untuk {name_element.text}\"]').click()\n",
    "        except:\n",
    "            continue\n",
    "        time.sleep(1)\n",
    "        driver.find_element(By.XPATH, '//*[@aria-label=\"Urutkan ulasan\"]').click()\n",
    "        time.sleep(0.5)\n",
    "        filter = driver.find_elements(By.XPATH, '//*[@class=\"fxNQSd\"]')\n",
    "        filter[1].click()\n",
    "        time.sleep(0.5)\n",
    "\n",
    "        #scroll dulu biar muncul        \n",
    "        scrollable_div = driver.find_element(By.CSS_SELECTOR, \"div.m6QErb.DxyBCb.kA9KIf.dS8AEf.XiKgde\")\n",
    "        driver.execute_script('arguments[0].scrollTop = arguments[0].scrollHeight', scrollable_div)\n",
    "        time.sleep(1)\n",
    "        \n",
    "        try:\n",
    "            review_element = driver.find_elements(By.CLASS_NAME, \"jftiEf\")\n",
    "            review_element = review_element[0]\n",
    "        except:\n",
    "            continue\n",
    "        try:\n",
    "            df_result[\"last_review\"][i] = review_element.find_element(By.CLASS_NAME, \"wiI7pd\").text\n",
    "        except:\n",
    "            pass\n",
    "        try:\n",
    "            df_result[\"date_last_review\"][i] = review_element.find_element(By.CLASS_NAME, \"rsqaWe\").text\n",
    "        except:\n",
    "            pass\n",
    "        try:\n",
    "            df_result[\"last_review_rating\"][i] = review_element.find_element(By.CLASS_NAME, \"kvMYJc\").get_attribute(\"aria-label\")\n",
    "        except:\n",
    "            pass\n",
    "        \n",
    "    return df_result"
   ]
  },
  {
   "cell_type": "markdown",
   "metadata": {},
   "source": [
    "# SIMPAN DATA"
   ]
  },
  {
   "cell_type": "code",
   "execution_count": 17,
   "metadata": {},
   "outputs": [],
   "source": [
    "def save(df, path:str):\n",
    "    if not path.endswith(\".csv\"):\n",
    "        path = path+\"csv.csv\"\n",
    "    \n",
    "    df.to_csv(path)"
   ]
  },
  {
   "cell_type": "markdown",
   "metadata": {},
   "source": [
    "# EXECUTE"
   ]
  },
  {
   "cell_type": "code",
   "execution_count": null,
   "metadata": {},
   "outputs": [
    {
     "name": "stdout",
     "output_type": "stream",
     "text": [
      "Berhasil membentuk grid sebanyak 40\n",
      "Berhasil membentuk grid sebanyak 118\n",
      "[2024/11/11 15:29:54] ppocr DEBUG: Namespace(help='==SUPPRESS==', use_gpu=False, use_xpu=False, use_npu=False, use_mlu=False, ir_optim=True, use_tensorrt=False, min_subgraph_size=15, precision='fp32', gpu_mem=500, gpu_id=0, image_dir=None, page_num=0, det_algorithm='DB', det_model_dir='C:\\\\Users\\\\MYPC PRO L7/.paddleocr/whl\\\\det\\\\en\\\\en_PP-OCRv3_det_infer', det_limit_side_len=960, det_limit_type='max', det_box_type='quad', det_db_thresh=0.3, det_db_box_thresh=0.6, det_db_unclip_ratio=1.5, max_batch_size=10, use_dilation=False, det_db_score_mode='fast', det_east_score_thresh=0.8, det_east_cover_thresh=0.1, det_east_nms_thresh=0.2, det_sast_score_thresh=0.5, det_sast_nms_thresh=0.2, det_pse_thresh=0, det_pse_box_thresh=0.85, det_pse_min_area=16, det_pse_scale=1, scales=[8, 16, 32], alpha=1.0, beta=1.0, fourier_degree=5, rec_algorithm='SVTR_LCNet', rec_model_dir='C:\\\\Users\\\\MYPC PRO L7/.paddleocr/whl\\\\rec\\\\en\\\\en_PP-OCRv4_rec_infer', rec_image_inverse=True, rec_image_shape='3, 48, 320', rec_batch_num=6, max_text_length=25, rec_char_dict_path='c:\\\\ProgramData\\\\anaconda3\\\\envs\\\\replikasi-projek_SNAPWangi\\\\lib\\\\site-packages\\\\paddleocr\\\\ppocr\\\\utils\\\\en_dict.txt', use_space_char=True, vis_font_path='C:/Windows/Fonts/arial.ttf', drop_score=0.5, e2e_algorithm='PGNet', e2e_model_dir=None, e2e_limit_side_len=768, e2e_limit_type='max', e2e_pgnet_score_thresh=0.5, e2e_char_dict_path='./ppocr/utils/ic15_dict.txt', e2e_pgnet_valid_set='totaltext', e2e_pgnet_mode='fast', use_angle_cls=True, cls_model_dir='C:\\\\Users\\\\MYPC PRO L7/.paddleocr/whl\\\\cls\\\\ch_ppocr_mobile_v2.0_cls_infer', cls_image_shape='3, 48, 192', label_list=['0', '180'], cls_batch_num=6, cls_thresh=0.9, enable_mkldnn=False, cpu_threads=10, use_pdserving=False, warmup=False, sr_model_dir=None, sr_image_shape='3, 32, 128', sr_batch_num=1, draw_img_save_dir='./inference_results', save_crop_res=False, crop_res_save_dir='./output', use_mp=False, total_process_num=1, process_id=0, benchmark=False, save_log_path='./log_output/', show_log=True, use_onnx=False, return_word_box=False, output='./output', table_max_len=488, table_algorithm='TableAttn', table_model_dir=None, merge_no_span_structure=True, table_char_dict_path=None, formula_algorithm='LaTeXOCR', formula_model_dir=None, formula_char_dict_path=None, formula_batch_num=1, layout_model_dir=None, layout_dict_path=None, layout_score_threshold=0.5, layout_nms_threshold=0.5, kie_algorithm='LayoutXLM', ser_model_dir=None, re_model_dir=None, use_visual_backbone=True, ser_dict_path='../train_data/XFUND/class_list_xfun.txt', ocr_order_method=None, mode='structure', image_orientation=False, layout=True, table=True, formula=False, ocr=True, recovery=False, recovery_to_markdown=False, use_pdf2docx_api=False, invert=False, binarize=False, alphacolor=(255, 255, 255), lang='en', det=True, rec=True, type='ocr', savefile=False, ocr_version='PP-OCRv4', structure_version='PP-StructureV2')\n",
      "[2024/11/11 15:29:55] ppocr DEBUG: dt_boxes num : 71, elapsed : 0.3401799201965332\n",
      "[2024/11/11 15:29:56] ppocr DEBUG: cls num  : 71, elapsed : 0.23671579360961914\n",
      "[2024/11/11 15:30:03] ppocr DEBUG: rec_res num  : 71, elapsed : 7.306562900543213\n",
      "[2024/11/11 15:33:33] ppocr DEBUG: Namespace(help='==SUPPRESS==', use_gpu=False, use_xpu=False, use_npu=False, use_mlu=False, ir_optim=True, use_tensorrt=False, min_subgraph_size=15, precision='fp32', gpu_mem=500, gpu_id=0, image_dir=None, page_num=0, det_algorithm='DB', det_model_dir='C:\\\\Users\\\\MYPC PRO L7/.paddleocr/whl\\\\det\\\\en\\\\en_PP-OCRv3_det_infer', det_limit_side_len=960, det_limit_type='max', det_box_type='quad', det_db_thresh=0.3, det_db_box_thresh=0.6, det_db_unclip_ratio=1.5, max_batch_size=10, use_dilation=False, det_db_score_mode='fast', det_east_score_thresh=0.8, det_east_cover_thresh=0.1, det_east_nms_thresh=0.2, det_sast_score_thresh=0.5, det_sast_nms_thresh=0.2, det_pse_thresh=0, det_pse_box_thresh=0.85, det_pse_min_area=16, det_pse_scale=1, scales=[8, 16, 32], alpha=1.0, beta=1.0, fourier_degree=5, rec_algorithm='SVTR_LCNet', rec_model_dir='C:\\\\Users\\\\MYPC PRO L7/.paddleocr/whl\\\\rec\\\\en\\\\en_PP-OCRv4_rec_infer', rec_image_inverse=True, rec_image_shape='3, 48, 320', rec_batch_num=6, max_text_length=25, rec_char_dict_path='c:\\\\ProgramData\\\\anaconda3\\\\envs\\\\replikasi-projek_SNAPWangi\\\\lib\\\\site-packages\\\\paddleocr\\\\ppocr\\\\utils\\\\en_dict.txt', use_space_char=True, vis_font_path='C:/Windows/Fonts/arial.ttf', drop_score=0.5, e2e_algorithm='PGNet', e2e_model_dir=None, e2e_limit_side_len=768, e2e_limit_type='max', e2e_pgnet_score_thresh=0.5, e2e_char_dict_path='./ppocr/utils/ic15_dict.txt', e2e_pgnet_valid_set='totaltext', e2e_pgnet_mode='fast', use_angle_cls=True, cls_model_dir='C:\\\\Users\\\\MYPC PRO L7/.paddleocr/whl\\\\cls\\\\ch_ppocr_mobile_v2.0_cls_infer', cls_image_shape='3, 48, 192', label_list=['0', '180'], cls_batch_num=6, cls_thresh=0.9, enable_mkldnn=False, cpu_threads=10, use_pdserving=False, warmup=False, sr_model_dir=None, sr_image_shape='3, 32, 128', sr_batch_num=1, draw_img_save_dir='./inference_results', save_crop_res=False, crop_res_save_dir='./output', use_mp=False, total_process_num=1, process_id=0, benchmark=False, save_log_path='./log_output/', show_log=True, use_onnx=False, return_word_box=False, output='./output', table_max_len=488, table_algorithm='TableAttn', table_model_dir=None, merge_no_span_structure=True, table_char_dict_path=None, formula_algorithm='LaTeXOCR', formula_model_dir=None, formula_char_dict_path=None, formula_batch_num=1, layout_model_dir=None, layout_dict_path=None, layout_score_threshold=0.5, layout_nms_threshold=0.5, kie_algorithm='LayoutXLM', ser_model_dir=None, re_model_dir=None, use_visual_backbone=True, ser_dict_path='../train_data/XFUND/class_list_xfun.txt', ocr_order_method=None, mode='structure', image_orientation=False, layout=True, table=True, formula=False, ocr=True, recovery=False, recovery_to_markdown=False, use_pdf2docx_api=False, invert=False, binarize=False, alphacolor=(255, 255, 255), lang='en', det=True, rec=True, type='ocr', savefile=False, ocr_version='PP-OCRv4', structure_version='PP-StructureV2')\n",
      "[2024/11/11 15:33:35] ppocr DEBUG: dt_boxes num : 55, elapsed : 0.15327882766723633\n",
      "[2024/11/11 15:33:35] ppocr DEBUG: cls num  : 55, elapsed : 0.17300081253051758\n",
      "[2024/11/11 15:33:40] ppocr DEBUG: rec_res num  : 55, elapsed : 5.449623346328735\n",
      "[2024/11/11 15:38:31] ppocr DEBUG: Namespace(help='==SUPPRESS==', use_gpu=False, use_xpu=False, use_npu=False, use_mlu=False, ir_optim=True, use_tensorrt=False, min_subgraph_size=15, precision='fp32', gpu_mem=500, gpu_id=0, image_dir=None, page_num=0, det_algorithm='DB', det_model_dir='C:\\\\Users\\\\MYPC PRO L7/.paddleocr/whl\\\\det\\\\en\\\\en_PP-OCRv3_det_infer', det_limit_side_len=960, det_limit_type='max', det_box_type='quad', det_db_thresh=0.3, det_db_box_thresh=0.6, det_db_unclip_ratio=1.5, max_batch_size=10, use_dilation=False, det_db_score_mode='fast', det_east_score_thresh=0.8, det_east_cover_thresh=0.1, det_east_nms_thresh=0.2, det_sast_score_thresh=0.5, det_sast_nms_thresh=0.2, det_pse_thresh=0, det_pse_box_thresh=0.85, det_pse_min_area=16, det_pse_scale=1, scales=[8, 16, 32], alpha=1.0, beta=1.0, fourier_degree=5, rec_algorithm='SVTR_LCNet', rec_model_dir='C:\\\\Users\\\\MYPC PRO L7/.paddleocr/whl\\\\rec\\\\en\\\\en_PP-OCRv4_rec_infer', rec_image_inverse=True, rec_image_shape='3, 48, 320', rec_batch_num=6, max_text_length=25, rec_char_dict_path='c:\\\\ProgramData\\\\anaconda3\\\\envs\\\\replikasi-projek_SNAPWangi\\\\lib\\\\site-packages\\\\paddleocr\\\\ppocr\\\\utils\\\\en_dict.txt', use_space_char=True, vis_font_path='C:/Windows/Fonts/arial.ttf', drop_score=0.5, e2e_algorithm='PGNet', e2e_model_dir=None, e2e_limit_side_len=768, e2e_limit_type='max', e2e_pgnet_score_thresh=0.5, e2e_char_dict_path='./ppocr/utils/ic15_dict.txt', e2e_pgnet_valid_set='totaltext', e2e_pgnet_mode='fast', use_angle_cls=True, cls_model_dir='C:\\\\Users\\\\MYPC PRO L7/.paddleocr/whl\\\\cls\\\\ch_ppocr_mobile_v2.0_cls_infer', cls_image_shape='3, 48, 192', label_list=['0', '180'], cls_batch_num=6, cls_thresh=0.9, enable_mkldnn=False, cpu_threads=10, use_pdserving=False, warmup=False, sr_model_dir=None, sr_image_shape='3, 32, 128', sr_batch_num=1, draw_img_save_dir='./inference_results', save_crop_res=False, crop_res_save_dir='./output', use_mp=False, total_process_num=1, process_id=0, benchmark=False, save_log_path='./log_output/', show_log=True, use_onnx=False, return_word_box=False, output='./output', table_max_len=488, table_algorithm='TableAttn', table_model_dir=None, merge_no_span_structure=True, table_char_dict_path=None, formula_algorithm='LaTeXOCR', formula_model_dir=None, formula_char_dict_path=None, formula_batch_num=1, layout_model_dir=None, layout_dict_path=None, layout_score_threshold=0.5, layout_nms_threshold=0.5, kie_algorithm='LayoutXLM', ser_model_dir=None, re_model_dir=None, use_visual_backbone=True, ser_dict_path='../train_data/XFUND/class_list_xfun.txt', ocr_order_method=None, mode='structure', image_orientation=False, layout=True, table=True, formula=False, ocr=True, recovery=False, recovery_to_markdown=False, use_pdf2docx_api=False, invert=False, binarize=False, alphacolor=(255, 255, 255), lang='en', det=True, rec=True, type='ocr', savefile=False, ocr_version='PP-OCRv4', structure_version='PP-StructureV2')\n",
      "[2024/11/11 15:38:33] ppocr DEBUG: dt_boxes num : 62, elapsed : 0.20340728759765625\n",
      "[2024/11/11 15:38:33] ppocr DEBUG: cls num  : 62, elapsed : 0.2190721035003662\n",
      "[2024/11/11 15:38:40] ppocr DEBUG: rec_res num  : 62, elapsed : 6.211517333984375\n",
      "[2024/11/11 15:45:17] ppocr DEBUG: Namespace(help='==SUPPRESS==', use_gpu=False, use_xpu=False, use_npu=False, use_mlu=False, ir_optim=True, use_tensorrt=False, min_subgraph_size=15, precision='fp32', gpu_mem=500, gpu_id=0, image_dir=None, page_num=0, det_algorithm='DB', det_model_dir='C:\\\\Users\\\\MYPC PRO L7/.paddleocr/whl\\\\det\\\\en\\\\en_PP-OCRv3_det_infer', det_limit_side_len=960, det_limit_type='max', det_box_type='quad', det_db_thresh=0.3, det_db_box_thresh=0.6, det_db_unclip_ratio=1.5, max_batch_size=10, use_dilation=False, det_db_score_mode='fast', det_east_score_thresh=0.8, det_east_cover_thresh=0.1, det_east_nms_thresh=0.2, det_sast_score_thresh=0.5, det_sast_nms_thresh=0.2, det_pse_thresh=0, det_pse_box_thresh=0.85, det_pse_min_area=16, det_pse_scale=1, scales=[8, 16, 32], alpha=1.0, beta=1.0, fourier_degree=5, rec_algorithm='SVTR_LCNet', rec_model_dir='C:\\\\Users\\\\MYPC PRO L7/.paddleocr/whl\\\\rec\\\\en\\\\en_PP-OCRv4_rec_infer', rec_image_inverse=True, rec_image_shape='3, 48, 320', rec_batch_num=6, max_text_length=25, rec_char_dict_path='c:\\\\ProgramData\\\\anaconda3\\\\envs\\\\replikasi-projek_SNAPWangi\\\\lib\\\\site-packages\\\\paddleocr\\\\ppocr\\\\utils\\\\en_dict.txt', use_space_char=True, vis_font_path='C:/Windows/Fonts/arial.ttf', drop_score=0.5, e2e_algorithm='PGNet', e2e_model_dir=None, e2e_limit_side_len=768, e2e_limit_type='max', e2e_pgnet_score_thresh=0.5, e2e_char_dict_path='./ppocr/utils/ic15_dict.txt', e2e_pgnet_valid_set='totaltext', e2e_pgnet_mode='fast', use_angle_cls=True, cls_model_dir='C:\\\\Users\\\\MYPC PRO L7/.paddleocr/whl\\\\cls\\\\ch_ppocr_mobile_v2.0_cls_infer', cls_image_shape='3, 48, 192', label_list=['0', '180'], cls_batch_num=6, cls_thresh=0.9, enable_mkldnn=False, cpu_threads=10, use_pdserving=False, warmup=False, sr_model_dir=None, sr_image_shape='3, 32, 128', sr_batch_num=1, draw_img_save_dir='./inference_results', save_crop_res=False, crop_res_save_dir='./output', use_mp=False, total_process_num=1, process_id=0, benchmark=False, save_log_path='./log_output/', show_log=True, use_onnx=False, return_word_box=False, output='./output', table_max_len=488, table_algorithm='TableAttn', table_model_dir=None, merge_no_span_structure=True, table_char_dict_path=None, formula_algorithm='LaTeXOCR', formula_model_dir=None, formula_char_dict_path=None, formula_batch_num=1, layout_model_dir=None, layout_dict_path=None, layout_score_threshold=0.5, layout_nms_threshold=0.5, kie_algorithm='LayoutXLM', ser_model_dir=None, re_model_dir=None, use_visual_backbone=True, ser_dict_path='../train_data/XFUND/class_list_xfun.txt', ocr_order_method=None, mode='structure', image_orientation=False, layout=True, table=True, formula=False, ocr=True, recovery=False, recovery_to_markdown=False, use_pdf2docx_api=False, invert=False, binarize=False, alphacolor=(255, 255, 255), lang='en', det=True, rec=True, type='ocr', savefile=False, ocr_version='PP-OCRv4', structure_version='PP-StructureV2')\n",
      "[2024/11/11 15:45:19] ppocr DEBUG: dt_boxes num : 60, elapsed : 0.18837809562683105\n",
      "[2024/11/11 15:45:19] ppocr DEBUG: cls num  : 60, elapsed : 0.1304311752319336\n",
      "[2024/11/11 15:45:25] ppocr DEBUG: rec_res num  : 60, elapsed : 6.002791881561279\n",
      "[2024/11/11 15:53:32] ppocr DEBUG: Namespace(help='==SUPPRESS==', use_gpu=False, use_xpu=False, use_npu=False, use_mlu=False, ir_optim=True, use_tensorrt=False, min_subgraph_size=15, precision='fp32', gpu_mem=500, gpu_id=0, image_dir=None, page_num=0, det_algorithm='DB', det_model_dir='C:\\\\Users\\\\MYPC PRO L7/.paddleocr/whl\\\\det\\\\en\\\\en_PP-OCRv3_det_infer', det_limit_side_len=960, det_limit_type='max', det_box_type='quad', det_db_thresh=0.3, det_db_box_thresh=0.6, det_db_unclip_ratio=1.5, max_batch_size=10, use_dilation=False, det_db_score_mode='fast', det_east_score_thresh=0.8, det_east_cover_thresh=0.1, det_east_nms_thresh=0.2, det_sast_score_thresh=0.5, det_sast_nms_thresh=0.2, det_pse_thresh=0, det_pse_box_thresh=0.85, det_pse_min_area=16, det_pse_scale=1, scales=[8, 16, 32], alpha=1.0, beta=1.0, fourier_degree=5, rec_algorithm='SVTR_LCNet', rec_model_dir='C:\\\\Users\\\\MYPC PRO L7/.paddleocr/whl\\\\rec\\\\en\\\\en_PP-OCRv4_rec_infer', rec_image_inverse=True, rec_image_shape='3, 48, 320', rec_batch_num=6, max_text_length=25, rec_char_dict_path='c:\\\\ProgramData\\\\anaconda3\\\\envs\\\\replikasi-projek_SNAPWangi\\\\lib\\\\site-packages\\\\paddleocr\\\\ppocr\\\\utils\\\\en_dict.txt', use_space_char=True, vis_font_path='C:/Windows/Fonts/arial.ttf', drop_score=0.5, e2e_algorithm='PGNet', e2e_model_dir=None, e2e_limit_side_len=768, e2e_limit_type='max', e2e_pgnet_score_thresh=0.5, e2e_char_dict_path='./ppocr/utils/ic15_dict.txt', e2e_pgnet_valid_set='totaltext', e2e_pgnet_mode='fast', use_angle_cls=True, cls_model_dir='C:\\\\Users\\\\MYPC PRO L7/.paddleocr/whl\\\\cls\\\\ch_ppocr_mobile_v2.0_cls_infer', cls_image_shape='3, 48, 192', label_list=['0', '180'], cls_batch_num=6, cls_thresh=0.9, enable_mkldnn=False, cpu_threads=10, use_pdserving=False, warmup=False, sr_model_dir=None, sr_image_shape='3, 32, 128', sr_batch_num=1, draw_img_save_dir='./inference_results', save_crop_res=False, crop_res_save_dir='./output', use_mp=False, total_process_num=1, process_id=0, benchmark=False, save_log_path='./log_output/', show_log=True, use_onnx=False, return_word_box=False, output='./output', table_max_len=488, table_algorithm='TableAttn', table_model_dir=None, merge_no_span_structure=True, table_char_dict_path=None, formula_algorithm='LaTeXOCR', formula_model_dir=None, formula_char_dict_path=None, formula_batch_num=1, layout_model_dir=None, layout_dict_path=None, layout_score_threshold=0.5, layout_nms_threshold=0.5, kie_algorithm='LayoutXLM', ser_model_dir=None, re_model_dir=None, use_visual_backbone=True, ser_dict_path='../train_data/XFUND/class_list_xfun.txt', ocr_order_method=None, mode='structure', image_orientation=False, layout=True, table=True, formula=False, ocr=True, recovery=False, recovery_to_markdown=False, use_pdf2docx_api=False, invert=False, binarize=False, alphacolor=(255, 255, 255), lang='en', det=True, rec=True, type='ocr', savefile=False, ocr_version='PP-OCRv4', structure_version='PP-StructureV2')\n",
      "[2024/11/11 15:53:34] ppocr DEBUG: dt_boxes num : 39, elapsed : 0.2004408836364746\n",
      "[2024/11/11 15:53:34] ppocr DEBUG: cls num  : 39, elapsed : 0.13688230514526367\n",
      "[2024/11/11 15:53:38] ppocr DEBUG: rec_res num  : 39, elapsed : 4.014463424682617\n"
     ]
    }
   ],
   "source": [
    "# Hitung Waktu\n",
    "start_time = time.time()\n",
    "\n",
    "#initiate browser\n",
    "driver = webdriver.Chrome(options=chrome_options)\n",
    "\n",
    "# first screenshoot\n",
    "path_first_screenshoot = make_screenshot(driver, get_gmaps_link(lat_test, long_test, zoom1), f\"{path_output}/screenshoot_zoom_1.png\")\n",
    "\n",
    "# Periksa ukuran resolusi gambar\n",
    "res_x, res_y = get_image_resolution(path_first_screenshoot)\n",
    "\n",
    "# Import SHP\n",
    "geo_df_kota = gpd.read_file(path_shp)\n",
    "geo_df_kota.head()\n",
    "geo_kelurahan = geo_df_kota[(geo_df_kota[\"WADMKC\"]==kecamatan) & (geo_df_kota[\"WADMKD\"]==kelurahan)][\"geometry\"]\n",
    "\n",
    "# grid size\n",
    "x1_size, y1_size = calculate_grid_size(res_x,res_y,zoom1)\n",
    "x2_size, y2_size = calculate_grid_size(res_x,res_y,zoom2)\n",
    "x3_size, y3_size = calculate_grid_size(res_x,res_y,zoom3)\n",
    "\n",
    "# make grid maps\n",
    "grid1 = create_grid(geo_kelurahan,x1_size,y1_size)\n",
    "grid3 = create_grid(geo_kelurahan,x3_size,y3_size)\n",
    "\n",
    "# centroid of each grid\n",
    "grid1 = get_centroid(grid1)\n",
    "grid3 = get_centroid(grid3)\n",
    "\n",
    "# Initiate Dataframe hasil\n",
    "df_result = pd.DataFrame()\n",
    "\n",
    "# looping zoom 1\n",
    "for i in range(len(grid1)):\n",
    "    l = get_gmaps_link(round(grid1['centroid'][i].y,7), round(grid1['centroid'][i].x,7),zoom1)\n",
    "    img = make_screenshot(driver, l,f\"{path_output}screenshoot/zoom1_{i+1}.png\")\n",
    "    # img=f\"{path_output}screenshoot/zoom1_{i+1}.png\"\n",
    "    \n",
    "    result = detect_text(img, link_map=l)\n",
    "    save_image_with_boxes(img,result['boxes'],f\"{path_output}ocr_result/zoom1_{i+1}.png\")\n",
    "    clean_result = cleaning_text(result)\n",
    "    df_result = collect_place(df_result, clean_result)\n",
    "\n",
    "    # result2 = detect_text(img, link_map=l)\n",
    "    # save_image_with_boxes(img,result2['boxes'],f\"{path_output}ocr_result2/zoom1_{i+1}.png\")\n",
    "    # clean_result2 = cleaning_text(result2)\n",
    "    # df_result = collect_place(df_result, clean_result2)\n",
    "\n",
    "    df_result = get_places_detail(driver, df_result)\n",
    "\n",
    "save(df_result, f\"{path_output}dengan tingkat zoom {zoom1}.csv\")\n",
    "\n",
    "end_time = time.time()\n",
    "elapsed_time = end_time - start_time\n",
    "print(f\"Waktu eksekusi sampai looping 1: {elapsed_time} detik\")"
   ]
  },
  {
   "cell_type": "code",
   "execution_count": null,
   "metadata": {},
   "outputs": [],
   "source": [
    "# looping zoom 3\n",
    "for i in range(len(grid3)):\n",
    "    l = get_gmaps_link(round(grid3['centroid'][i].y,7), round(grid3['centroid'][i].x,7),zoom3)\n",
    "    img = make_screenshot(driver, l,f\"{path_output}screenshoot/zoom3_{i+1}.png\")\n",
    "    # img=f\"{path_output}screenshoot/zoom3_{i+1}.png\"\n",
    "    \n",
    "    result = detect_text(img, link_map=l)\n",
    "    save_image_with_boxes(img,result['boxes'],f\"{path_output}ocr_result/zoom3_{i+1}.png\")\n",
    "    clean_result = cleaning_text(result)\n",
    "    df_result = pd.concat([df_result, result], ignore_index=True, axis=0)\n",
    "    \n",
    "    # result2 = detect_text(img, bin=True, inv=True, link_map=l)\n",
    "    # save_image_with_boxes(img,result2['boxes'],f\"{path_output}ocr_result2/zoom3_{i+1}.png\")\n",
    "    # clean_result2 = cleaning_text(result2)\n",
    "    # df_result = pd.concat([df_result, result2], ignore_index=True, axis=0)\n",
    "\n",
    "    df_result = get_places_detail(driver, df_result)\n",
    "    \n",
    "save(df_result, f\"{path_output}hasil scrapping dengan tambahan tingkat zoom {zoom3}.csv\")\n",
    "\n",
    "driver.quit()\n",
    "\n",
    "end_time = time.time()\n",
    "elapsed_time = end_time - start_time\n",
    "print(f\"Waktu eksekusi sampai looping 2: {elapsed_time} detik\")"
   ]
  },
  {
   "cell_type": "code",
   "execution_count": null,
   "metadata": {},
   "outputs": [],
   "source": [
    "save(df_result, f\"{path_output}hasil scrapping sementara {zoom3}.csv\")"
   ]
  }
 ],
 "metadata": {
  "kernelspec": {
   "display_name": "replikasi-projek_SNAPWangi",
   "language": "python",
   "name": "python3"
  },
  "language_info": {
   "codemirror_mode": {
    "name": "ipython",
    "version": 3
   },
   "file_extension": ".py",
   "mimetype": "text/x-python",
   "name": "python",
   "nbconvert_exporter": "python",
   "pygments_lexer": "ipython3",
   "version": "3.9.20"
  }
 },
 "nbformat": 4,
 "nbformat_minor": 2
}
